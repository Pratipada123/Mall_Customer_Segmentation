{
 "cells": [
  {
   "cell_type": "code",
   "execution_count": 1,
   "id": "fbdc2a51-6ce3-46eb-bcb1-44a881fad45c",
   "metadata": {},
   "outputs": [],
   "source": [
    "## 1.Load and visualize dataset (optional PCA for 2D view).\n",
    "## 2.Fit K-Means and assign cluster labels.\n",
    "## 3.Use the Elbow Method to find optimal K.\n",
    "## 4.Visualize clusters with color-coding.\n",
    "## 5.Evaluate clustering using Silhouette Score."
   ]
  },
  {
   "cell_type": "code",
   "execution_count": 2,
   "id": "90f0a423-db3a-4274-9eaf-d2cc44072b24",
   "metadata": {},
   "outputs": [
    {
     "name": "stdout",
     "output_type": "stream",
     "text": [
      "   CustomerID  Gender  Age  Annual Income (k$)  Spending Score (1-100)\n",
      "0           1    Male   19                  15                      39\n",
      "1           2    Male   21                  15                      81\n",
      "2           3  Female   20                  16                       6\n",
      "3           4  Female   23                  16                      77\n",
      "4           5  Female   31                  17                      40\n",
      "<class 'pandas.core.frame.DataFrame'>\n",
      "RangeIndex: 200 entries, 0 to 199\n",
      "Data columns (total 5 columns):\n",
      " #   Column                  Non-Null Count  Dtype \n",
      "---  ------                  --------------  ----- \n",
      " 0   CustomerID              200 non-null    int64 \n",
      " 1   Gender                  200 non-null    object\n",
      " 2   Age                     200 non-null    int64 \n",
      " 3   Annual Income (k$)      200 non-null    int64 \n",
      " 4   Spending Score (1-100)  200 non-null    int64 \n",
      "dtypes: int64(4), object(1)\n",
      "memory usage: 7.9+ KB\n",
      "None\n"
     ]
    }
   ],
   "source": [
    "# Load the Data.\n",
    "\n",
    "import pandas as pd\n",
    "\n",
    "# Load the dataset\n",
    "df = pd.read_csv(r\"C:\\Users\\prati\\Downloads\\archive (9)\\Mall_Customers.csv\")\n",
    "\n",
    "# Display first few rows\n",
    "print(df.head())\n",
    "\n",
    "# Check data types and missing values\n",
    "print(df.info())\n"
   ]
  },
  {
   "cell_type": "code",
   "execution_count": 4,
   "id": "a007cc67-1767-4fa9-afef-8ec94005ac4e",
   "metadata": {},
   "outputs": [
    {
     "data": {
      "text/html": [
       "<div>\n",
       "<style scoped>\n",
       "    .dataframe tbody tr th:only-of-type {\n",
       "        vertical-align: middle;\n",
       "    }\n",
       "\n",
       "    .dataframe tbody tr th {\n",
       "        vertical-align: top;\n",
       "    }\n",
       "\n",
       "    .dataframe thead th {\n",
       "        text-align: right;\n",
       "    }\n",
       "</style>\n",
       "<table border=\"1\" class=\"dataframe\">\n",
       "  <thead>\n",
       "    <tr style=\"text-align: right;\">\n",
       "      <th></th>\n",
       "      <th>CustomerID</th>\n",
       "      <th>Gender</th>\n",
       "      <th>Age</th>\n",
       "      <th>Annual Income (k$)</th>\n",
       "      <th>Spending Score (1-100)</th>\n",
       "    </tr>\n",
       "  </thead>\n",
       "  <tbody>\n",
       "    <tr>\n",
       "      <th>0</th>\n",
       "      <td>1</td>\n",
       "      <td>Male</td>\n",
       "      <td>19</td>\n",
       "      <td>15</td>\n",
       "      <td>39</td>\n",
       "    </tr>\n",
       "    <tr>\n",
       "      <th>1</th>\n",
       "      <td>2</td>\n",
       "      <td>Male</td>\n",
       "      <td>21</td>\n",
       "      <td>15</td>\n",
       "      <td>81</td>\n",
       "    </tr>\n",
       "    <tr>\n",
       "      <th>2</th>\n",
       "      <td>3</td>\n",
       "      <td>Female</td>\n",
       "      <td>20</td>\n",
       "      <td>16</td>\n",
       "      <td>6</td>\n",
       "    </tr>\n",
       "    <tr>\n",
       "      <th>3</th>\n",
       "      <td>4</td>\n",
       "      <td>Female</td>\n",
       "      <td>23</td>\n",
       "      <td>16</td>\n",
       "      <td>77</td>\n",
       "    </tr>\n",
       "    <tr>\n",
       "      <th>4</th>\n",
       "      <td>5</td>\n",
       "      <td>Female</td>\n",
       "      <td>31</td>\n",
       "      <td>17</td>\n",
       "      <td>40</td>\n",
       "    </tr>\n",
       "    <tr>\n",
       "      <th>...</th>\n",
       "      <td>...</td>\n",
       "      <td>...</td>\n",
       "      <td>...</td>\n",
       "      <td>...</td>\n",
       "      <td>...</td>\n",
       "    </tr>\n",
       "    <tr>\n",
       "      <th>195</th>\n",
       "      <td>196</td>\n",
       "      <td>Female</td>\n",
       "      <td>35</td>\n",
       "      <td>120</td>\n",
       "      <td>79</td>\n",
       "    </tr>\n",
       "    <tr>\n",
       "      <th>196</th>\n",
       "      <td>197</td>\n",
       "      <td>Female</td>\n",
       "      <td>45</td>\n",
       "      <td>126</td>\n",
       "      <td>28</td>\n",
       "    </tr>\n",
       "    <tr>\n",
       "      <th>197</th>\n",
       "      <td>198</td>\n",
       "      <td>Male</td>\n",
       "      <td>32</td>\n",
       "      <td>126</td>\n",
       "      <td>74</td>\n",
       "    </tr>\n",
       "    <tr>\n",
       "      <th>198</th>\n",
       "      <td>199</td>\n",
       "      <td>Male</td>\n",
       "      <td>32</td>\n",
       "      <td>137</td>\n",
       "      <td>18</td>\n",
       "    </tr>\n",
       "    <tr>\n",
       "      <th>199</th>\n",
       "      <td>200</td>\n",
       "      <td>Male</td>\n",
       "      <td>30</td>\n",
       "      <td>137</td>\n",
       "      <td>83</td>\n",
       "    </tr>\n",
       "  </tbody>\n",
       "</table>\n",
       "<p>200 rows × 5 columns</p>\n",
       "</div>"
      ],
      "text/plain": [
       "     CustomerID  Gender  Age  Annual Income (k$)  Spending Score (1-100)\n",
       "0             1    Male   19                  15                      39\n",
       "1             2    Male   21                  15                      81\n",
       "2             3  Female   20                  16                       6\n",
       "3             4  Female   23                  16                      77\n",
       "4             5  Female   31                  17                      40\n",
       "..          ...     ...  ...                 ...                     ...\n",
       "195         196  Female   35                 120                      79\n",
       "196         197  Female   45                 126                      28\n",
       "197         198    Male   32                 126                      74\n",
       "198         199    Male   32                 137                      18\n",
       "199         200    Male   30                 137                      83\n",
       "\n",
       "[200 rows x 5 columns]"
      ]
     },
     "execution_count": 4,
     "metadata": {},
     "output_type": "execute_result"
    }
   ],
   "source": [
    "df"
   ]
  },
  {
   "cell_type": "code",
   "execution_count": 3,
   "id": "eb8fd401-93b3-4284-bf9b-dac32ca6abc9",
   "metadata": {},
   "outputs": [
    {
     "data": {
      "text/plain": [
       "CustomerID                0\n",
       "Gender                    0\n",
       "Age                       0\n",
       "Annual Income (k$)        0\n",
       "Spending Score (1-100)    0\n",
       "dtype: int64"
      ]
     },
     "execution_count": 3,
     "metadata": {},
     "output_type": "execute_result"
    }
   ],
   "source": [
    "df.isnull().sum()"
   ]
  },
  {
   "cell_type": "code",
   "execution_count": 6,
   "id": "7cb03134-fadb-4920-8213-d4a80b6d22d6",
   "metadata": {},
   "outputs": [
    {
     "data": {
      "text/html": [
       "<div>\n",
       "<style scoped>\n",
       "    .dataframe tbody tr th:only-of-type {\n",
       "        vertical-align: middle;\n",
       "    }\n",
       "\n",
       "    .dataframe tbody tr th {\n",
       "        vertical-align: top;\n",
       "    }\n",
       "\n",
       "    .dataframe thead th {\n",
       "        text-align: right;\n",
       "    }\n",
       "</style>\n",
       "<table border=\"1\" class=\"dataframe\">\n",
       "  <thead>\n",
       "    <tr style=\"text-align: right;\">\n",
       "      <th></th>\n",
       "      <th>Annual Income (k$)</th>\n",
       "      <th>Spending Score (1-100)</th>\n",
       "    </tr>\n",
       "  </thead>\n",
       "  <tbody>\n",
       "    <tr>\n",
       "      <th>0</th>\n",
       "      <td>15</td>\n",
       "      <td>39</td>\n",
       "    </tr>\n",
       "    <tr>\n",
       "      <th>1</th>\n",
       "      <td>15</td>\n",
       "      <td>81</td>\n",
       "    </tr>\n",
       "    <tr>\n",
       "      <th>2</th>\n",
       "      <td>16</td>\n",
       "      <td>6</td>\n",
       "    </tr>\n",
       "    <tr>\n",
       "      <th>3</th>\n",
       "      <td>16</td>\n",
       "      <td>77</td>\n",
       "    </tr>\n",
       "    <tr>\n",
       "      <th>4</th>\n",
       "      <td>17</td>\n",
       "      <td>40</td>\n",
       "    </tr>\n",
       "    <tr>\n",
       "      <th>...</th>\n",
       "      <td>...</td>\n",
       "      <td>...</td>\n",
       "    </tr>\n",
       "    <tr>\n",
       "      <th>195</th>\n",
       "      <td>120</td>\n",
       "      <td>79</td>\n",
       "    </tr>\n",
       "    <tr>\n",
       "      <th>196</th>\n",
       "      <td>126</td>\n",
       "      <td>28</td>\n",
       "    </tr>\n",
       "    <tr>\n",
       "      <th>197</th>\n",
       "      <td>126</td>\n",
       "      <td>74</td>\n",
       "    </tr>\n",
       "    <tr>\n",
       "      <th>198</th>\n",
       "      <td>137</td>\n",
       "      <td>18</td>\n",
       "    </tr>\n",
       "    <tr>\n",
       "      <th>199</th>\n",
       "      <td>137</td>\n",
       "      <td>83</td>\n",
       "    </tr>\n",
       "  </tbody>\n",
       "</table>\n",
       "<p>200 rows × 2 columns</p>\n",
       "</div>"
      ],
      "text/plain": [
       "     Annual Income (k$)  Spending Score (1-100)\n",
       "0                    15                      39\n",
       "1                    15                      81\n",
       "2                    16                       6\n",
       "3                    16                      77\n",
       "4                    17                      40\n",
       "..                  ...                     ...\n",
       "195                 120                      79\n",
       "196                 126                      28\n",
       "197                 126                      74\n",
       "198                 137                      18\n",
       "199                 137                      83\n",
       "\n",
       "[200 rows x 2 columns]"
      ]
     },
     "execution_count": 6,
     "metadata": {},
     "output_type": "execute_result"
    }
   ],
   "source": [
    "# Select relevant features for clustering.\n",
    "\n",
    "features = df[['Annual Income (k$)', 'Spending Score (1-100)']]\n",
    "features"
   ]
  },
  {
   "cell_type": "code",
   "execution_count": 8,
   "id": "948451a8-9303-4b69-b315-e2fd0ec8831d",
   "metadata": {},
   "outputs": [
    {
     "data": {
      "text/plain": [
       "array([[-1.73899919, -0.43480148],\n",
       "       [-1.73899919,  1.19570407],\n",
       "       [-1.70082976, -1.71591298],\n",
       "       [-1.70082976,  1.04041783],\n",
       "       [-1.66266033, -0.39597992],\n",
       "       [-1.66266033,  1.00159627],\n",
       "       [-1.62449091, -1.71591298],\n",
       "       [-1.62449091,  1.70038436],\n",
       "       [-1.58632148, -1.83237767],\n",
       "       [-1.58632148,  0.84631002],\n",
       "       [-1.58632148, -1.4053405 ],\n",
       "       [-1.58632148,  1.89449216],\n",
       "       [-1.54815205, -1.36651894],\n",
       "       [-1.54815205,  1.04041783],\n",
       "       [-1.54815205, -1.44416206],\n",
       "       [-1.54815205,  1.11806095],\n",
       "       [-1.50998262, -0.59008772],\n",
       "       [-1.50998262,  0.61338066],\n",
       "       [-1.43364376, -0.82301709],\n",
       "       [-1.43364376,  1.8556706 ],\n",
       "       [-1.39547433, -0.59008772],\n",
       "       [-1.39547433,  0.88513158],\n",
       "       [-1.3573049 , -1.75473454],\n",
       "       [-1.3573049 ,  0.88513158],\n",
       "       [-1.24279661, -1.4053405 ],\n",
       "       [-1.24279661,  1.23452563],\n",
       "       [-1.24279661, -0.7065524 ],\n",
       "       [-1.24279661,  0.41927286],\n",
       "       [-1.20462718, -0.74537397],\n",
       "       [-1.20462718,  1.42863343],\n",
       "       [-1.16645776, -1.7935561 ],\n",
       "       [-1.16645776,  0.88513158],\n",
       "       [-1.05194947, -1.7935561 ],\n",
       "       [-1.05194947,  1.62274124],\n",
       "       [-1.05194947, -1.4053405 ],\n",
       "       [-1.05194947,  1.19570407],\n",
       "       [-1.01378004, -1.28887582],\n",
       "       [-1.01378004,  0.88513158],\n",
       "       [-0.89927175, -0.93948177],\n",
       "       [-0.89927175,  0.96277471],\n",
       "       [-0.86110232, -0.59008772],\n",
       "       [-0.86110232,  1.62274124],\n",
       "       [-0.82293289, -0.55126616],\n",
       "       [-0.82293289,  0.41927286],\n",
       "       [-0.82293289, -0.86183865],\n",
       "       [-0.82293289,  0.5745591 ],\n",
       "       [-0.78476346,  0.18634349],\n",
       "       [-0.78476346, -0.12422899],\n",
       "       [-0.78476346, -0.3183368 ],\n",
       "       [-0.78476346, -0.3183368 ],\n",
       "       [-0.70842461,  0.06987881],\n",
       "       [-0.70842461,  0.38045129],\n",
       "       [-0.67025518,  0.14752193],\n",
       "       [-0.67025518,  0.38045129],\n",
       "       [-0.67025518, -0.20187212],\n",
       "       [-0.67025518, -0.35715836],\n",
       "       [-0.63208575, -0.00776431],\n",
       "       [-0.63208575, -0.16305055],\n",
       "       [-0.55574689,  0.03105725],\n",
       "       [-0.55574689, -0.16305055],\n",
       "       [-0.55574689,  0.22516505],\n",
       "       [-0.55574689,  0.18634349],\n",
       "       [-0.51757746,  0.06987881],\n",
       "       [-0.51757746,  0.34162973],\n",
       "       [-0.47940803,  0.03105725],\n",
       "       [-0.47940803,  0.34162973],\n",
       "       [-0.47940803, -0.00776431],\n",
       "       [-0.47940803, -0.08540743],\n",
       "       [-0.47940803,  0.34162973],\n",
       "       [-0.47940803, -0.12422899],\n",
       "       [-0.4412386 ,  0.18634349],\n",
       "       [-0.4412386 , -0.3183368 ],\n",
       "       [-0.40306917, -0.04658587],\n",
       "       [-0.40306917,  0.22516505],\n",
       "       [-0.25039146, -0.12422899],\n",
       "       [-0.25039146,  0.14752193],\n",
       "       [-0.25039146,  0.10870037],\n",
       "       [-0.25039146, -0.08540743],\n",
       "       [-0.25039146,  0.06987881],\n",
       "       [-0.25039146, -0.3183368 ],\n",
       "       [-0.25039146,  0.03105725],\n",
       "       [-0.25039146,  0.18634349],\n",
       "       [-0.25039146, -0.35715836],\n",
       "       [-0.25039146, -0.24069368],\n",
       "       [-0.25039146,  0.26398661],\n",
       "       [-0.25039146, -0.16305055],\n",
       "       [-0.13588317,  0.30280817],\n",
       "       [-0.13588317,  0.18634349],\n",
       "       [-0.09771374,  0.38045129],\n",
       "       [-0.09771374, -0.16305055],\n",
       "       [-0.05954431,  0.18634349],\n",
       "       [-0.05954431, -0.35715836],\n",
       "       [-0.02137488, -0.04658587],\n",
       "       [-0.02137488, -0.39597992],\n",
       "       [-0.02137488, -0.3183368 ],\n",
       "       [-0.02137488,  0.06987881],\n",
       "       [-0.02137488, -0.12422899],\n",
       "       [-0.02137488, -0.00776431],\n",
       "       [ 0.01679455, -0.3183368 ],\n",
       "       [ 0.01679455, -0.04658587],\n",
       "       [ 0.05496398, -0.35715836],\n",
       "       [ 0.05496398, -0.08540743],\n",
       "       [ 0.05496398,  0.34162973],\n",
       "       [ 0.05496398,  0.18634349],\n",
       "       [ 0.05496398,  0.22516505],\n",
       "       [ 0.05496398, -0.3183368 ],\n",
       "       [ 0.09313341, -0.00776431],\n",
       "       [ 0.09313341, -0.16305055],\n",
       "       [ 0.09313341, -0.27951524],\n",
       "       [ 0.09313341, -0.08540743],\n",
       "       [ 0.09313341,  0.06987881],\n",
       "       [ 0.09313341,  0.14752193],\n",
       "       [ 0.13130284, -0.3183368 ],\n",
       "       [ 0.13130284, -0.16305055],\n",
       "       [ 0.16947227, -0.08540743],\n",
       "       [ 0.16947227, -0.00776431],\n",
       "       [ 0.16947227, -0.27951524],\n",
       "       [ 0.16947227,  0.34162973],\n",
       "       [ 0.24581112, -0.27951524],\n",
       "       [ 0.24581112,  0.26398661],\n",
       "       [ 0.24581112,  0.22516505],\n",
       "       [ 0.24581112, -0.39597992],\n",
       "       [ 0.32214998,  0.30280817],\n",
       "       [ 0.32214998,  1.58391968],\n",
       "       [ 0.36031941, -0.82301709],\n",
       "       [ 0.36031941,  1.04041783],\n",
       "       [ 0.39848884, -0.59008772],\n",
       "       [ 0.39848884,  1.73920592],\n",
       "       [ 0.39848884, -1.52180518],\n",
       "       [ 0.39848884,  0.96277471],\n",
       "       [ 0.39848884, -1.5994483 ],\n",
       "       [ 0.39848884,  0.96277471],\n",
       "       [ 0.43665827, -0.62890928],\n",
       "       [ 0.43665827,  0.80748846],\n",
       "       [ 0.4748277 , -1.75473454],\n",
       "       [ 0.4748277 ,  1.46745499],\n",
       "       [ 0.4748277 , -1.67709142],\n",
       "       [ 0.4748277 ,  0.88513158],\n",
       "       [ 0.51299713, -1.56062674],\n",
       "       [ 0.51299713,  0.84631002],\n",
       "       [ 0.55116656, -1.75473454],\n",
       "       [ 0.55116656,  1.6615628 ],\n",
       "       [ 0.58933599, -0.39597992],\n",
       "       [ 0.58933599,  1.42863343],\n",
       "       [ 0.62750542, -1.48298362],\n",
       "       [ 0.62750542,  1.81684904],\n",
       "       [ 0.62750542, -0.55126616],\n",
       "       [ 0.62750542,  0.92395314],\n",
       "       [ 0.66567484, -1.09476801],\n",
       "       [ 0.66567484,  1.54509812],\n",
       "       [ 0.66567484, -1.28887582],\n",
       "       [ 0.66567484,  1.46745499],\n",
       "       [ 0.66567484, -1.17241113],\n",
       "       [ 0.66567484,  1.00159627],\n",
       "       [ 0.66567484, -1.32769738],\n",
       "       [ 0.66567484,  1.50627656],\n",
       "       [ 0.66567484, -1.91002079],\n",
       "       [ 0.66567484,  1.07923939],\n",
       "       [ 0.66567484, -1.91002079],\n",
       "       [ 0.66567484,  0.88513158],\n",
       "       [ 0.70384427, -0.59008772],\n",
       "       [ 0.70384427,  1.27334719],\n",
       "       [ 0.78018313, -1.75473454],\n",
       "       [ 0.78018313,  1.6615628 ],\n",
       "       [ 0.93286085, -0.93948177],\n",
       "       [ 0.93286085,  0.96277471],\n",
       "       [ 0.97103028, -1.17241113],\n",
       "       [ 0.97103028,  1.73920592],\n",
       "       [ 1.00919971, -0.90066021],\n",
       "       [ 1.00919971,  0.49691598],\n",
       "       [ 1.00919971, -1.44416206],\n",
       "       [ 1.00919971,  0.96277471],\n",
       "       [ 1.00919971, -1.56062674],\n",
       "       [ 1.00919971,  1.62274124],\n",
       "       [ 1.04736914, -1.44416206],\n",
       "       [ 1.04736914,  1.38981187],\n",
       "       [ 1.04736914, -1.36651894],\n",
       "       [ 1.04736914,  0.72984534],\n",
       "       [ 1.23821628, -1.4053405 ],\n",
       "       [ 1.23821628,  1.54509812],\n",
       "       [ 1.390894  , -0.7065524 ],\n",
       "       [ 1.390894  ,  1.38981187],\n",
       "       [ 1.42906343, -1.36651894],\n",
       "       [ 1.42906343,  1.46745499],\n",
       "       [ 1.46723286, -0.43480148],\n",
       "       [ 1.46723286,  1.81684904],\n",
       "       [ 1.54357172, -1.01712489],\n",
       "       [ 1.54357172,  0.69102378],\n",
       "       [ 1.61991057, -1.28887582],\n",
       "       [ 1.61991057,  1.35099031],\n",
       "       [ 1.61991057, -1.05594645],\n",
       "       [ 1.61991057,  0.72984534],\n",
       "       [ 2.00160487, -1.63826986],\n",
       "       [ 2.00160487,  1.58391968],\n",
       "       [ 2.26879087, -1.32769738],\n",
       "       [ 2.26879087,  1.11806095],\n",
       "       [ 2.49780745, -0.86183865],\n",
       "       [ 2.49780745,  0.92395314],\n",
       "       [ 2.91767117, -1.25005425],\n",
       "       [ 2.91767117,  1.27334719]])"
      ]
     },
     "execution_count": 8,
     "metadata": {},
     "output_type": "execute_result"
    }
   ],
   "source": [
    "# Standardize the Data.\n",
    "\n",
    "from sklearn.preprocessing import StandardScaler\n",
    "\n",
    "# Standardize the features\n",
    "scaler = StandardScaler()\n",
    "X_scaled = scaler.fit_transform(features)\n",
    "X_scaled"
   ]
  },
  {
   "cell_type": "code",
   "execution_count": 10,
   "id": "859fd1b2-577f-471f-96d9-b86342ae5cb9",
   "metadata": {},
   "outputs": [
    {
     "data": {
      "text/plain": [
       "array([[-1.53710920e+00, -9.22207047e-01],\n",
       "       [-3.84167666e-01, -2.07514858e+00],\n",
       "       [-2.41600197e+00,  1.06654468e-02],\n",
       "       [-4.66981759e-01, -1.93835476e+00],\n",
       "       [-1.45567848e+00, -8.95678311e-01],\n",
       "       [-4.67442886e-01, -1.88391391e+00],\n",
       "       [-2.36202224e+00,  6.46451712e-02],\n",
       "       [ 5.36647757e-02, -2.35104185e+00],\n",
       "       [-2.41738535e+00,  1.73988000e-01],\n",
       "       [-5.23267116e-01, -1.72013023e+00],\n",
       "       [-2.11542447e+00, -1.27972877e-01],\n",
       "       [ 2.17909582e-01, -2.46130693e+00],\n",
       "       [-2.06098362e+00, -1.28434004e-01],\n",
       "       [-3.59022310e-01, -1.83039531e+00],\n",
       "       [-2.11588560e+00, -7.35320262e-02],\n",
       "       [-3.04120332e-01, -1.88529729e+00],\n",
       "       [-1.48497398e+00, -6.50463918e-01],\n",
       "       [-6.33993325e-01, -1.50144457e+00],\n",
       "       [-1.59570019e+00, -4.31778261e-01],\n",
       "       [ 2.98418042e-01, -2.32589649e+00],\n",
       "       [-1.40400439e+00, -5.69494332e-01],\n",
       "       [-3.60866817e-01, -1.61263191e+00],\n",
       "       [-2.20054420e+00,  2.81025195e-01],\n",
       "       [-3.33876954e-01, -1.58564205e+00],\n",
       "       [-1.87251571e+00,  1.14935883e-01],\n",
       "       [-5.84846831e-03, -1.75173136e+00],\n",
       "       [-1.37839791e+00, -3.79181916e-01],\n",
       "       [-5.82319234e-01, -1.17526059e+00],\n",
       "       [-1.37885904e+00, -3.24741065e-01],\n",
       "       [ 1.58396338e-01, -1.86199644e+00],\n",
       "       [-2.09304587e+00,  4.43425495e-01],\n",
       "       [-1.98927643e-01, -1.45069273e+00],\n",
       "       [-2.01207629e+00,  5.24395082e-01],\n",
       "       [ 4.03610731e-01, -1.89129194e+00],\n",
       "       [-1.73756640e+00,  2.49885194e-01],\n",
       "       [ 1.01649854e-01, -1.58933106e+00],\n",
       "       [-1.62822357e+00,  1.94522089e-01],\n",
       "       [-9.09681946e-02, -1.34273329e+00],\n",
       "       [-1.30019508e+00,  2.84327764e-02],\n",
       "       [ 4.49033697e-02, -1.31666568e+00],\n",
       "       [-1.02614632e+00, -1.91636261e-01],\n",
       "       [ 5.38560042e-01, -1.75634262e+00],\n",
       "       [-9.71705471e-01, -1.92097388e-01],\n",
       "       [-2.85430750e-01, -8.78372108e-01],\n",
       "       [-1.19131338e+00,  2.75105231e-02],\n",
       "       [-1.75626794e-01, -9.88176064e-01],\n",
       "       [-4.23146820e-01, -6.86676313e-01],\n",
       "       [-6.42754731e-01, -4.67068403e-01],\n",
       "       [-7.80009675e-01, -3.29813458e-01],\n",
       "       [-7.80009675e-01, -3.29813458e-01],\n",
       "       [-4.51520063e-01, -5.50343622e-01],\n",
       "       [-2.31912152e-01, -7.69951533e-01],\n",
       "       [-3.69628223e-01, -5.78255738e-01],\n",
       "       [-2.04922290e-01, -7.42961671e-01],\n",
       "       [-6.16687122e-01, -3.31196838e-01],\n",
       "       [-7.26491078e-01, -2.21392883e-01],\n",
       "       [-4.52442316e-01, -4.41461920e-01],\n",
       "       [-5.62246271e-01, -3.31657965e-01],\n",
       "       [-3.71011603e-01, -4.14933185e-01],\n",
       "       [-5.08266547e-01, -2.77678241e-01],\n",
       "       [-2.33756658e-01, -5.52188129e-01],\n",
       "       [-2.61207647e-01, -5.24737140e-01],\n",
       "       [-3.16570752e-01, -4.15394311e-01],\n",
       "       [-1.24413830e-01, -6.07551233e-01],\n",
       "       [-3.17031878e-01, -3.60953460e-01],\n",
       "       [-9.74239675e-02, -5.80561371e-01],\n",
       "       [-3.44482867e-01, -3.33502471e-01],\n",
       "       [-3.99384845e-01, -2.78600494e-01],\n",
       "       [-9.74239675e-02, -5.80561371e-01],\n",
       "       [-4.26835834e-01, -2.51149505e-01],\n",
       "       [-1.80238061e-01, -4.43767553e-01],\n",
       "       [-5.37100915e-01, -8.69046986e-02],\n",
       "       [-3.17954131e-01, -2.52071758e-01],\n",
       "       [-1.25797210e-01, -4.44228680e-01],\n",
       "       [-2.64896660e-01, -8.92103318e-02],\n",
       "       [-7.27397385e-02, -2.81367254e-01],\n",
       "       [-1.00190727e-01, -2.53916265e-01],\n",
       "       [-2.37445671e-01, -1.16661321e-01],\n",
       "       [-1.27641716e-01, -2.26465276e-01],\n",
       "       [-4.02151604e-01,  4.80446124e-02],\n",
       "       [-1.55092705e-01, -1.99014287e-01],\n",
       "       [-4.52887496e-02, -3.08818242e-01],\n",
       "       [-4.29602593e-01,  7.54956012e-02],\n",
       "       [-3.47249627e-01, -6.85736526e-03],\n",
       "       [ 9.61322804e-03, -3.63720220e-01],\n",
       "       [-2.92347649e-01, -6.17593429e-02],\n",
       "       [ 1.18033803e-01, -3.10201622e-01],\n",
       "       [ 3.56808370e-02, -2.27848656e-01],\n",
       "       [ 1.99925643e-01, -3.38113738e-01],\n",
       "       [-1.84388200e-01,  4.62001059e-02],\n",
       "       [ 8.96605614e-02, -1.73868931e-01],\n",
       "       [-2.94653282e-01,  2.10444912e-01],\n",
       "       [-4.80555094e-02,  1.78268638e-02],\n",
       "       [-2.95114409e-01,  2.64885763e-01],\n",
       "       [-2.40212431e-01,  2.09983786e-01],\n",
       "       [ 3.42974571e-02, -6.45261027e-02],\n",
       "       [-1.02957487e-01,  7.27288414e-02],\n",
       "       [-2.06045206e-02, -9.62412507e-03],\n",
       "       [-2.13222569e-01,  2.36973648e-01],\n",
       "       [-2.10656472e-02,  4.48167260e-02],\n",
       "       [-2.13683696e-01,  2.91414499e-01],\n",
       "       [-2.15267739e-02,  9.92575770e-02],\n",
       "       [ 2.80434103e-01, -2.02703300e-01],\n",
       "       [ 1.70630148e-01, -9.28993448e-02],\n",
       "       [ 1.98081137e-01, -1.20350334e-01],\n",
       "       [-1.86232707e-01,  2.63963510e-01],\n",
       "       [ 6.03650660e-02,  7.13454615e-02],\n",
       "       [-4.94388893e-02,  1.81149417e-01],\n",
       "       [-1.31791856e-01,  2.63502383e-01],\n",
       "       [ 5.46308833e-03,  1.26247439e-01],\n",
       "       [ 1.15267044e-01,  1.64434839e-02],\n",
       "       [ 1.70169021e-01, -3.84584938e-02],\n",
       "       [-1.32252982e-01,  3.17943234e-01],\n",
       "       [-2.24490271e-02,  2.08139279e-01],\n",
       "       [ 5.94428127e-02,  1.80227164e-01],\n",
       "       [ 1.14344790e-01,  1.25325186e-01],\n",
       "       [-7.78121314e-02,  3.17482108e-01],\n",
       "       [ 3.61403690e-01, -1.21733714e-01],\n",
       "       [-2.38324070e-02,  3.71461832e-01],\n",
       "       [ 3.60481437e-01, -1.28520115e-02],\n",
       "       [ 3.33030448e-01,  1.45989773e-02],\n",
       "       [-1.06185374e-01,  4.53814799e-01],\n",
       "       [ 4.41912150e-01,  1.36767241e-02],\n",
       "       [ 1.34779478e+00, -8.92205908e-01],\n",
       "       [-3.27176664e-01,  8.36745262e-01],\n",
       "       [ 9.90470800e-01, -4.80902202e-01],\n",
       "       [-1.35480869e-01,  6.99029192e-01],\n",
       "       [ 1.51157846e+00, -9.48030138e-01],\n",
       "       [-7.94304601e-01,  1.35785292e+00],\n",
       "       [ 9.62558684e-01, -3.99010362e-01],\n",
       "       [-8.49206579e-01,  1.41275490e+00],\n",
       "       [ 9.62558684e-01, -3.99010362e-01],\n",
       "       [-1.35941996e-01,  7.53470043e-01],\n",
       "       [ 8.79744591e-01, -2.62216544e-01],\n",
       "       [-9.05030810e-01,  1.57653858e+00],\n",
       "       [ 1.37340126e+00, -7.01893492e-01],\n",
       "       [-8.50128832e-01,  1.52163660e+00],\n",
       "       [ 9.61636431e-01, -2.90128660e-01],\n",
       "       [-7.40786003e-01,  1.46627350e+00],\n",
       "       [ 9.61175305e-01, -2.35687809e-01],\n",
       "       [-8.51051085e-01,  1.63051831e+00],\n",
       "       [ 1.56463593e+00, -7.85168712e-01],\n",
       "       [ 1.36723386e-01,  6.96723559e-01],\n",
       "       [ 1.42691986e+00, -5.93472917e-01],\n",
       "       [-6.04914439e-01,  1.49234111e+00],\n",
       "       [ 1.72841961e+00, -8.40992943e-01],\n",
       "       [ 5.39092931e-02,  8.33517376e-01],\n",
       "       [ 1.09704687e+00, -2.09620200e-01],\n",
       "       [-3.03414688e-01,  1.24482108e+00],\n",
       "       [ 1.56325255e+00, -6.21846159e-01],\n",
       "       [-4.40669633e-01,  1.38207603e+00],\n",
       "       [ 1.50835057e+00, -5.66944181e-01],\n",
       "       [-3.58316666e-01,  1.29972306e+00],\n",
       "       [ 1.17893871e+00, -2.37532315e-01],\n",
       "       [-4.68120621e-01,  1.40952701e+00],\n",
       "       [ 1.53580156e+00, -5.94395170e-01],\n",
       "       [-8.79885454e-01,  1.82129185e+00],\n",
       "       [ 1.23384069e+00, -2.92434293e-01],\n",
       "       [-8.79885454e-01,  1.82129185e+00],\n",
       "       [ 1.09658574e+00, -1.55179349e-01],\n",
       "       [ 8.04380287e-02,  9.14948089e-01],\n",
       "       [ 1.39808549e+00, -4.02699375e-01],\n",
       "       [-6.89111912e-01,  1.79245748e+00],\n",
       "       [ 1.72657511e+00, -6.23229539e-01],\n",
       "       [-4.68169761e-03,  1.32394616e+00],\n",
       "       [ 1.34041676e+00, -2.11522909e-02],\n",
       "       [-1.42397768e-01,  1.51564196e+00],\n",
       "       [ 1.91642639e+00, -5.43182205e-01],\n",
       "       [ 7.67490156e-02,  1.35047490e+00],\n",
       "       [ 1.06498461e+00,  3.62239300e-01],\n",
       "       [-3.07564828e-01,  1.73478874e+00],\n",
       "       [ 1.39439648e+00,  3.28274335e-02],\n",
       "       [-3.89917795e-01,  1.81714171e+00],\n",
       "       [ 1.86106329e+00, -4.33839377e-01],\n",
       "       [-2.80574966e-01,  1.76177860e+00],\n",
       "       [ 1.72334722e+00, -2.42143582e-01],\n",
       "       [-2.25672988e-01,  1.70687663e+00],\n",
       "       [ 1.25668041e+00,  2.24523229e-01],\n",
       "       [-1.18174666e-01,  1.86927693e+00],\n",
       "       [ 1.96810049e+00, -2.16998226e-01],\n",
       "       [ 4.83902582e-01,  1.48311858e+00],\n",
       "       [ 1.96625598e+00,  7.65178312e-04],\n",
       "       [ 4.42256338e-02,  1.97677525e+00],\n",
       "       [ 2.04814782e+00, -2.71469372e-02],\n",
       "       [ 7.30039228e-01,  1.34494138e+00],\n",
       "       [ 2.32219658e+00, -2.47215974e-01],\n",
       "       [ 3.72254120e-01,  1.81068593e+00],\n",
       "       [ 1.58009763e+00,  6.02842426e-01],\n",
       "       [ 2.34076922e-01,  2.05682258e+00],\n",
       "       [ 2.10074416e+00,  1.90155340e-01],\n",
       "       [ 3.98782856e-01,  1.89211665e+00],\n",
       "       [ 1.66152834e+00,  6.29371162e-01],\n",
       "       [ 2.56916645e-01,  2.57378010e+00],\n",
       "       [ 2.53534872e+00,  2.95348029e-01],\n",
       "       [ 6.65453591e-01,  2.54310123e+00],\n",
       "       [ 2.39486589e+00,  8.13688931e-01],\n",
       "       [ 1.15680463e+00,  2.37562853e+00],\n",
       "       [ 2.41955012e+00,  1.11288305e+00],\n",
       "       [ 1.17918323e+00,  2.94702691e+00],\n",
       "       [ 2.96349750e+00,  1.16271263e+00]])"
      ]
     },
     "execution_count": 10,
     "metadata": {},
     "output_type": "execute_result"
    }
   ],
   "source": [
    "# Optional Apply PCA for 2D Visualization.\n",
    "\n",
    "from sklearn.decomposition import PCA\n",
    "\n",
    "# Apply PCA to reduce to 2 dimensions\n",
    "pca = PCA(n_components=2)\n",
    "X_pca = pca.fit_transform(X_scaled)\n",
    "X_pca"
   ]
  },
  {
   "cell_type": "code",
   "execution_count": 11,
   "id": "8a4d48ba-31f7-445c-9d9b-157d57f21c34",
   "metadata": {},
   "outputs": [
    {
     "data": {
      "image/png": "[encoded data removed]",
      "text/plain": [
       "<Figure size 600x500 with 1 Axes>"
      ]
     },
     "metadata": {},
     "output_type": "display_data"
    }
   ],
   "source": [
    "# Plot the PCA Result.\n",
    "\n",
    "import matplotlib.pyplot as plt\n",
    "import seaborn as sns\n",
    "\n",
    "# Visualize PCA output\n",
    "plt.figure(figsize=(6, 5))\n",
    "sns.scatterplot(x=X_pca[:, 0], y=X_pca[:, 1])\n",
    "plt.title('Customer Distribution after PCA')\n",
    "plt.xlabel('Principal Component 1')\n",
    "plt.ylabel('Principal Component 2')\n",
    "plt.grid(True)\n",
    "plt.show()\n"
   ]
  },
  {
   "cell_type": "code",
   "execution_count": 13,
   "id": "d548f7a9-7b84-4c09-bb0b-50ec168af221",
   "metadata": {},
   "outputs": [
    {
     "name": "stderr",
     "output_type": "stream",
     "text": [
      "C:\\Users\\prati\\anaconda37\\Lib\\site-packages\\sklearn\\cluster\\_kmeans.py:1446: UserWarning: KMeans is known to have a memory leak on Windows with MKL, when there are less chunks than available threads. You can avoid it by setting the environment variable OMP_NUM_THREADS=1.\n",
      "  warnings.warn(\n"
     ]
    },
    {
     "data": {
      "text/plain": [
       "array([4, 2, 4, 2, 4, 2, 4, 2, 4, 2, 4, 2, 4, 2, 4, 2, 4, 2, 4, 2, 4, 2,\n",
       "       4, 2, 4, 2, 4, 2, 4, 2, 4, 2, 4, 2, 4, 2, 4, 2, 4, 2, 4, 2, 4, 0,\n",
       "       4, 2, 0, 0, 0, 0, 0, 0, 0, 0, 0, 0, 0, 0, 0, 0, 0, 0, 0, 0, 0, 0,\n",
       "       0, 0, 0, 0, 0, 0, 0, 0, 0, 0, 0, 0, 0, 0, 0, 0, 0, 0, 0, 0, 0, 0,\n",
       "       0, 0, 0, 0, 0, 0, 0, 0, 0, 0, 0, 0, 0, 0, 0, 0, 0, 0, 0, 0, 0, 0,\n",
       "       0, 0, 0, 0, 0, 0, 0, 0, 0, 0, 0, 0, 0, 1, 3, 1, 0, 1, 3, 1, 3, 1,\n",
       "       0, 1, 3, 1, 3, 1, 3, 1, 3, 1, 0, 1, 3, 1, 3, 1, 3, 1, 3, 1, 3, 1,\n",
       "       3, 1, 3, 1, 3, 1, 3, 1, 3, 1, 3, 1, 3, 1, 3, 1, 3, 1, 3, 1, 3, 1,\n",
       "       3, 1, 3, 1, 3, 1, 3, 1, 3, 1, 3, 1, 3, 1, 3, 1, 3, 1, 3, 1, 3, 1,\n",
       "       3, 1])"
      ]
     },
     "execution_count": 13,
     "metadata": {},
     "output_type": "execute_result"
    }
   ],
   "source": [
    "## 2.Fit K-Means and assign cluster labels.\n",
    "\n",
    "from sklearn.cluster import KMeans\n",
    "# Choose the number of clusters\n",
    "k = 5\n",
    "\n",
    "# Initialize KMeans\n",
    "kmeans = KMeans(n_clusters=k, random_state=42)\n",
    "\n",
    "# Fit the model and predict clusters\n",
    "cluster_labels = kmeans.fit_predict(X_scaled)\n",
    "cluster_labels\n"
   ]
  },
  {
   "cell_type": "code",
   "execution_count": 14,
   "id": "a287fb18-a70d-40f1-af7c-ee47ca630f1c",
   "metadata": {},
   "outputs": [
    {
     "name": "stdout",
     "output_type": "stream",
     "text": [
      "   Annual Income (k$)  Spending Score (1-100)  Cluster\n",
      "0                  15                      39        4\n",
      "1                  15                      81        2\n",
      "2                  16                       6        4\n",
      "3                  16                      77        2\n",
      "4                  17                      40        4\n"
     ]
    }
   ],
   "source": [
    "# Add the cluster labels to the original DataFrame\n",
    "df['Cluster'] = cluster_labels\n",
    "\n",
    "# Show a few rows\n",
    "print(df[['Annual Income (k$)', 'Spending Score (1-100)', 'Cluster']].head())\n"
   ]
  },
  {
   "cell_type": "code",
   "execution_count": 15,
   "id": "6d4345bd-cd00-4eff-ac1e-50138bf4a547",
   "metadata": {},
   "outputs": [
    {
     "name": "stdout",
     "output_type": "stream",
     "text": [
      "Cluster Centers (scaled):\n",
      "[[-0.20091257 -0.02645617]\n",
      " [ 0.99158305  1.23950275]\n",
      " [-1.32954532  1.13217788]\n",
      " [ 1.05500302 -1.28443907]\n",
      " [-1.30751869 -1.13696536]]\n"
     ]
    }
   ],
   "source": [
    "# Cluster centers in scaled space\n",
    "print(\"Cluster Centers (scaled):\")\n",
    "print(kmeans.cluster_centers_)\n"
   ]
  },
  {
   "cell_type": "code",
   "execution_count": 16,
   "id": "4c8c044d-ee5c-459b-92ae-f493462ccbaf",
   "metadata": {},
   "outputs": [
    {
     "name": "stdout",
     "output_type": "stream",
     "text": [
      "Cluster Centers (original scale):\n",
      "[[55.2962963  49.51851852]\n",
      " [86.53846154 82.12820513]\n",
      " [25.72727273 79.36363636]\n",
      " [88.2        17.11428571]\n",
      " [26.30434783 20.91304348]]\n"
     ]
    }
   ],
   "source": [
    "# Convert centers back to original scale\n",
    "centers_original = scaler.inverse_transform(kmeans.cluster_centers_)\n",
    "print(\"Cluster Centers (original scale):\")\n",
    "print(centers_original)\n"
   ]
  },
  {
   "cell_type": "code",
   "execution_count": 19,
   "id": "06054258-bc7b-43dc-8390-460b86ab4b7a",
   "metadata": {},
   "outputs": [
    {
     "data": {
      "text/plain": [
       "range(1, 11)"
      ]
     },
     "execution_count": 19,
     "metadata": {},
     "output_type": "execute_result"
    }
   ],
   "source": [
    "## 3.Use the Elbow Method to find optimal K.\n",
    "\n",
    "K_range = range(1, 11)  # Trying K from 1 to 10\n",
    "K_range"
   ]
  },
  {
   "cell_type": "code",
   "execution_count": 23,
   "id": "5224e63d-eab3-446a-976f-28f049a6ee88",
   "metadata": {},
   "outputs": [
    {
     "name": "stderr",
     "output_type": "stream",
     "text": [
      "C:\\Users\\prati\\anaconda37\\Lib\\site-packages\\sklearn\\cluster\\_kmeans.py:1446: UserWarning: KMeans is known to have a memory leak on Windows with MKL, when there are less chunks than available threads. You can avoid it by setting the environment variable OMP_NUM_THREADS=1.\n",
      "  warnings.warn(\n",
      "C:\\Users\\prati\\anaconda37\\Lib\\site-packages\\sklearn\\cluster\\_kmeans.py:1446: UserWarning: KMeans is known to have a memory leak on Windows with MKL, when there are less chunks than available threads. You can avoid it by setting the environment variable OMP_NUM_THREADS=1.\n",
      "  warnings.warn(\n",
      "C:\\Users\\prati\\anaconda37\\Lib\\site-packages\\sklearn\\cluster\\_kmeans.py:1446: UserWarning: KMeans is known to have a memory leak on Windows with MKL, when there are less chunks than available threads. You can avoid it by setting the environment variable OMP_NUM_THREADS=1.\n",
      "  warnings.warn(\n",
      "C:\\Users\\prati\\anaconda37\\Lib\\site-packages\\sklearn\\cluster\\_kmeans.py:1446: UserWarning: KMeans is known to have a memory leak on Windows with MKL, when there are less chunks than available threads. You can avoid it by setting the environment variable OMP_NUM_THREADS=1.\n",
      "  warnings.warn(\n",
      "C:\\Users\\prati\\anaconda37\\Lib\\site-packages\\sklearn\\cluster\\_kmeans.py:1446: UserWarning: KMeans is known to have a memory leak on Windows with MKL, when there are less chunks than available threads. You can avoid it by setting the environment variable OMP_NUM_THREADS=1.\n",
      "  warnings.warn(\n",
      "C:\\Users\\prati\\anaconda37\\Lib\\site-packages\\sklearn\\cluster\\_kmeans.py:1446: UserWarning: KMeans is known to have a memory leak on Windows with MKL, when there are less chunks than available threads. You can avoid it by setting the environment variable OMP_NUM_THREADS=1.\n",
      "  warnings.warn(\n",
      "C:\\Users\\prati\\anaconda37\\Lib\\site-packages\\sklearn\\cluster\\_kmeans.py:1446: UserWarning: KMeans is known to have a memory leak on Windows with MKL, when there are less chunks than available threads. You can avoid it by setting the environment variable OMP_NUM_THREADS=1.\n",
      "  warnings.warn(\n",
      "C:\\Users\\prati\\anaconda37\\Lib\\site-packages\\sklearn\\cluster\\_kmeans.py:1446: UserWarning: KMeans is known to have a memory leak on Windows with MKL, when there are less chunks than available threads. You can avoid it by setting the environment variable OMP_NUM_THREADS=1.\n",
      "  warnings.warn(\n",
      "C:\\Users\\prati\\anaconda37\\Lib\\site-packages\\sklearn\\cluster\\_kmeans.py:1446: UserWarning: KMeans is known to have a memory leak on Windows with MKL, when there are less chunks than available threads. You can avoid it by setting the environment variable OMP_NUM_THREADS=1.\n",
      "  warnings.warn(\n",
      "C:\\Users\\prati\\anaconda37\\Lib\\site-packages\\sklearn\\cluster\\_kmeans.py:1446: UserWarning: KMeans is known to have a memory leak on Windows with MKL, when there are less chunks than available threads. You can avoid it by setting the environment variable OMP_NUM_THREADS=1.\n",
      "  warnings.warn(\n"
     ]
    },
    {
     "data": {
      "text/plain": [
       "[400.0,\n",
       " 273.6688866264201,\n",
       " 157.70400815035947,\n",
       " 109.22822707921344,\n",
       " 65.56840815571681,\n",
       " 60.13287487193422,\n",
       " 49.668244837367986,\n",
       " 37.319122878338824,\n",
       " 32.49508119910091,\n",
       " 30.05932269404221]"
      ]
     },
     "execution_count": 23,
     "metadata": {},
     "output_type": "execute_result"
    }
   ],
   "source": [
    "sse = []  \n",
    "for k in K_range:\n",
    "    kmeans = KMeans(n_clusters=k, random_state=42)\n",
    "    kmeans.fit(X_scaled)  # Fit the model to scaled data\n",
    "    sse.append(kmeans.inertia_)  # Append inertia (SSE)\n",
    "sse"
   ]
  },
  {
   "cell_type": "code",
   "execution_count": 24,
   "id": "d10ab64c-1215-41cc-800c-7df7dbf44596",
   "metadata": {},
   "outputs": [
    {
     "data": {
      "image/png": "[encoded data removed]",
      "text/plain": [
       "<Figure size 600x400 with 1 Axes>"
      ]
     },
     "metadata": {},
     "output_type": "display_data"
    }
   ],
   "source": [
    "import matplotlib.pyplot as plt\n",
    "\n",
    "plt.figure(figsize=(6, 4))\n",
    "plt.plot(K_range, sse, 'bo-')\n",
    "plt.xlabel('Number of Clusters (K)')\n",
    "plt.ylabel('Sum of Squared Errors (Inertia)')\n",
    "plt.title('Elbow Method for Optimal K')\n",
    "plt.grid(True)\n",
    "plt.show()\n"
   ]
  },
  {
   "cell_type": "code",
   "execution_count": 25,
   "id": "63324c8d-330d-480a-9e24-32949047ae22",
   "metadata": {},
   "outputs": [
    {
     "data": {
      "image/png": "[encoded data removed]",
      "text/plain": [
       "<Figure size 700x600 with 1 Axes>"
      ]
     },
     "metadata": {},
     "output_type": "display_data"
    }
   ],
   "source": [
    "## 4.Visualize clusters with color-coding.\n",
    "\n",
    "import seaborn as sns\n",
    "import matplotlib.pyplot as plt\n",
    "\n",
    "# Plot the PCA-transformed data with cluster labels\n",
    "plt.figure(figsize=(7, 6))\n",
    "sns.scatterplot(\n",
    "    x=X_pca[:, 0], y=X_pca[:, 1], \n",
    "    hue=cluster_labels, \n",
    "    palette='Set2', \n",
    "    s=80, \n",
    "    edgecolor='black'\n",
    ")\n",
    "\n",
    "plt.title('K-Means Clustering of Customers (PCA View)')\n",
    "plt.xlabel('PCA Component 1')\n",
    "plt.ylabel('PCA Component 2')\n",
    "plt.legend(title='Cluster')\n",
    "plt.grid(True)\n",
    "plt.show()\n"
   ]
  },
  {
   "cell_type": "code",
   "execution_count": 26,
   "id": "78dbacc2-0422-4de6-bfb3-c9ddc02309c3",
   "metadata": {},
   "outputs": [
    {
     "name": "stdout",
     "output_type": "stream",
     "text": [
      "Silhouette Score: 0.555\n"
     ]
    },
    {
     "name": "stderr",
     "output_type": "stream",
     "text": [
      "C:\\Users\\prati\\anaconda37\\Lib\\site-packages\\sklearn\\cluster\\_kmeans.py:1446: UserWarning: KMeans is known to have a memory leak on Windows with MKL, when there are less chunks than available threads. You can avoid it by setting the environment variable OMP_NUM_THREADS=1.\n",
      "  warnings.warn(\n"
     ]
    },
    {
     "name": "stdout",
     "output_type": "stream",
     "text": [
      "K=2, Silhouette Score = 0.397\n"
     ]
    },
    {
     "name": "stderr",
     "output_type": "stream",
     "text": [
      "C:\\Users\\prati\\anaconda37\\Lib\\site-packages\\sklearn\\cluster\\_kmeans.py:1446: UserWarning: KMeans is known to have a memory leak on Windows with MKL, when there are less chunks than available threads. You can avoid it by setting the environment variable OMP_NUM_THREADS=1.\n",
      "  warnings.warn(\n"
     ]
    },
    {
     "name": "stdout",
     "output_type": "stream",
     "text": [
      "K=3, Silhouette Score = 0.467\n"
     ]
    },
    {
     "name": "stderr",
     "output_type": "stream",
     "text": [
      "C:\\Users\\prati\\anaconda37\\Lib\\site-packages\\sklearn\\cluster\\_kmeans.py:1446: UserWarning: KMeans is known to have a memory leak on Windows with MKL, when there are less chunks than available threads. You can avoid it by setting the environment variable OMP_NUM_THREADS=1.\n",
      "  warnings.warn(\n"
     ]
    },
    {
     "name": "stdout",
     "output_type": "stream",
     "text": [
      "K=4, Silhouette Score = 0.494\n"
     ]
    },
    {
     "name": "stderr",
     "output_type": "stream",
     "text": [
      "C:\\Users\\prati\\anaconda37\\Lib\\site-packages\\sklearn\\cluster\\_kmeans.py:1446: UserWarning: KMeans is known to have a memory leak on Windows with MKL, when there are less chunks than available threads. You can avoid it by setting the environment variable OMP_NUM_THREADS=1.\n",
      "  warnings.warn(\n"
     ]
    },
    {
     "name": "stdout",
     "output_type": "stream",
     "text": [
      "K=5, Silhouette Score = 0.555\n"
     ]
    },
    {
     "name": "stderr",
     "output_type": "stream",
     "text": [
      "C:\\Users\\prati\\anaconda37\\Lib\\site-packages\\sklearn\\cluster\\_kmeans.py:1446: UserWarning: KMeans is known to have a memory leak on Windows with MKL, when there are less chunks than available threads. You can avoid it by setting the environment variable OMP_NUM_THREADS=1.\n",
      "  warnings.warn(\n"
     ]
    },
    {
     "name": "stdout",
     "output_type": "stream",
     "text": [
      "K=6, Silhouette Score = 0.514\n"
     ]
    },
    {
     "name": "stderr",
     "output_type": "stream",
     "text": [
      "C:\\Users\\prati\\anaconda37\\Lib\\site-packages\\sklearn\\cluster\\_kmeans.py:1446: UserWarning: KMeans is known to have a memory leak on Windows with MKL, when there are less chunks than available threads. You can avoid it by setting the environment variable OMP_NUM_THREADS=1.\n",
      "  warnings.warn(\n"
     ]
    },
    {
     "name": "stdout",
     "output_type": "stream",
     "text": [
      "K=7, Silhouette Score = 0.502\n"
     ]
    },
    {
     "name": "stderr",
     "output_type": "stream",
     "text": [
      "C:\\Users\\prati\\anaconda37\\Lib\\site-packages\\sklearn\\cluster\\_kmeans.py:1446: UserWarning: KMeans is known to have a memory leak on Windows with MKL, when there are less chunks than available threads. You can avoid it by setting the environment variable OMP_NUM_THREADS=1.\n",
      "  warnings.warn(\n",
      "C:\\Users\\prati\\anaconda37\\Lib\\site-packages\\sklearn\\cluster\\_kmeans.py:1446: UserWarning: KMeans is known to have a memory leak on Windows with MKL, when there are less chunks than available threads. You can avoid it by setting the environment variable OMP_NUM_THREADS=1.\n",
      "  warnings.warn(\n"
     ]
    },
    {
     "name": "stdout",
     "output_type": "stream",
     "text": [
      "K=8, Silhouette Score = 0.455\n",
      "K=9, Silhouette Score = 0.457\n"
     ]
    },
    {
     "name": "stderr",
     "output_type": "stream",
     "text": [
      "C:\\Users\\prati\\anaconda37\\Lib\\site-packages\\sklearn\\cluster\\_kmeans.py:1446: UserWarning: KMeans is known to have a memory leak on Windows with MKL, when there are less chunks than available threads. You can avoid it by setting the environment variable OMP_NUM_THREADS=1.\n",
      "  warnings.warn(\n"
     ]
    },
    {
     "name": "stdout",
     "output_type": "stream",
     "text": [
      "K=10, Silhouette Score = 0.445\n"
     ]
    }
   ],
   "source": [
    "## 5.Evaluate clustering using Silhouette Score.\n",
    "\n",
    "from sklearn.metrics import silhouette_score\n",
    "# X_scaled: standardized input features\n",
    "# cluster_labels: output from KMeans\n",
    "\n",
    "score = silhouette_score(X_scaled, cluster_labels)\n",
    "print(f\"Silhouette Score: {score:.3f}\")\n",
    "for k in range(2, 11):\n",
    "    kmeans = KMeans(n_clusters=k, random_state=42)\n",
    "    labels = kmeans.fit_predict(X_scaled)\n",
    "    sil_score = silhouette_score(X_scaled, labels)\n",
    "    print(f\"K={k}, Silhouette Score = {sil_score:.3f}\")\n",
    "\n",
    "\n"
   ]
  },
  {
   "cell_type": "code",
   "execution_count": null,
   "id": "d34b9e20-79b0-478f-9d3f-6bd1a3930476",
   "metadata": {},
   "outputs": [],
   "source": []
  }
 ],
 "metadata": {
  "kernelspec": {
   "display_name": "Python 3 (ipykernel)",
   "language": "python",
   "name": "python3"
  },
  "language_info": {
   "codemirror_mode": {
    "name": "ipython",
    "version": 3
   },
   "file_extension": ".py",
   "mimetype": "text/x-python",
   "name": "python",
   "nbconvert_exporter": "python",
   "pygments_lexer": "ipython3",
   "version": "3.12.4"
  }
 },
 "nbformat": 4,
 "nbformat_minor": 5
}
